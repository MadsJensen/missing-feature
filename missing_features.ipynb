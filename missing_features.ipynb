{
 "cells": [
  {
   "cell_type": "code",
   "execution_count": 62,
   "metadata": {},
   "outputs": [],
   "source": [
    "import numpy as np\n",
    "from sklearn.datasets import make_classification\n",
    "from sklearn.linear_model import LogisticRegression\n",
    "from sklearn.model_selection import (cross_val_score, cross_val_predict,\n",
    "                                     StratifiedKFold, permutation_test_score)\n",
    "from sklearn.feature_selection import SelectKBest\n",
    "from sklearn.metrics import roc_auc_score\n",
    "\n",
    "seed = 243452\n",
    "n_inform = 100\n",
    "n_samples = 1000\n",
    "n_samples_signal = 400\n",
    "n_samples_no_signal = n_samples - n_samples_signal"
   ]
  },
  {
   "cell_type": "code",
   "execution_count": 47,
   "metadata": {},
   "outputs": [],
   "source": [
    "X_1, y = make_classification(n_samples=n_samples,\n",
    "                             n_features=1000,\n",
    "                             n_informative=n_inform,\n",
    "                             n_redundant=0,\n",
    "                             shuffle=True,\n",
    "                             random_state=seed)"
   ]
  },
  {
   "cell_type": "code",
   "execution_count": 48,
   "metadata": {},
   "outputs": [],
   "source": [
    "clf = LogisticRegression()\n",
    "cv = StratifiedKFold(n_splits=5, shuffle=True, random_state=seed)"
   ]
  },
  {
   "cell_type": "code",
   "execution_count": 49,
   "metadata": {},
   "outputs": [],
   "source": [
    "scores = cross_val_score(clf, X_1, y, cv=cv, scoring='roc_auc')"
   ]
  },
  {
   "cell_type": "code",
   "execution_count": 50,
   "metadata": {},
   "outputs": [
    {
     "name": "stdout",
     "output_type": "stream",
     "text": [
      "[0.86208621 0.89378938 0.90459046 0.90079008 0.8949895 ]\n",
      "0.8912491249124912 0.015099271350604432\n"
     ]
    }
   ],
   "source": [
    "print(scores)\n",
    "print(scores.mean(), scores.std())\n"
   ]
  },
  {
   "cell_type": "code",
   "execution_count": 51,
   "metadata": {},
   "outputs": [
    {
     "data": {
      "text/plain": [
       "SelectKBest(k=100, score_func=<function f_classif at 0x1a11eceae8>)"
      ]
     },
     "execution_count": 51,
     "metadata": {},
     "output_type": "execute_result"
    }
   ],
   "source": [
    "kbest = SelectKBest(k=n_inform)\n",
    "kbest.fit(X_1, y)"
   ]
  },
  {
   "cell_type": "code",
   "execution_count": 52,
   "metadata": {},
   "outputs": [],
   "source": [
    "# remove information from X\n",
    "X_2 = X_1.copy()\n",
    "X_2 = X_2[:, kbest.get_support() != True]\n",
    "X_2 = np.concatenate((np.random.permutation(X_2[:, -n_inform:]), X_2), axis=1)"
   ]
  },
  {
   "cell_type": "code",
   "execution_count": 63,
   "metadata": {},
   "outputs": [
    {
     "data": {
      "text/plain": [
       "600"
      ]
     },
     "execution_count": 63,
     "metadata": {},
     "output_type": "execute_result"
    }
   ],
   "source": [
    "n_samples_no_signal"
   ]
  },
  {
   "cell_type": "code",
   "execution_count": 64,
   "metadata": {},
   "outputs": [],
   "source": [
    "# Make combine X\n",
    "X_mixed = np.concatenate((X_1[:n_samples_signal], X_2[n_samples_signal:]))"
   ]
  },
  {
   "cell_type": "code",
   "execution_count": 67,
   "metadata": {},
   "outputs": [],
   "source": [
    "scores_mixed = cross_val_score(clf, X_mixed, y, cv=cv, scoring='roc_auc')"
   ]
  },
  {
   "cell_type": "code",
   "execution_count": 68,
   "metadata": {},
   "outputs": [
    {
     "name": "stdout",
     "output_type": "stream",
     "text": [
      "[0.6039604  0.65786579 0.58135814 0.57235724 0.63876388]\n",
      "0.610861086108611 0.03282863891679688\n"
     ]
    }
   ],
   "source": [
    "print(scores_mixed)\n",
    "print(scores_mixed.mean(), scores_mixed.std())"
   ]
  },
  {
   "cell_type": "code",
   "execution_count": 69,
   "metadata": {},
   "outputs": [],
   "source": [
    "scores_2 = cross_val_score(clf, X_2, y, cv=cv, scoring='roc_auc')"
   ]
  },
  {
   "cell_type": "code",
   "execution_count": 70,
   "metadata": {},
   "outputs": [
    {
     "name": "stdout",
     "output_type": "stream",
     "text": [
      "[0.4460446  0.36683668 0.44714471 0.40164016 0.44264426]\n",
      "0.42086208620862087 0.03189866917041709\n"
     ]
    }
   ],
   "source": [
    "print(scores_2)\n",
    "print(scores_2.mean(), scores_2.std())"
   ]
  },
  {
   "cell_type": "code",
   "execution_count": 84,
   "metadata": {},
   "outputs": [
    {
     "data": {
      "text/plain": [
       "0.5091609160916092"
      ]
     },
     "execution_count": 84,
     "metadata": {},
     "output_type": "execute_result"
    }
   ],
   "source": [
    "clf = LogisticRegression()\n",
    "clf.fit(X_1, y)\n",
    "roc_auc_score(y, clf.predict(X_2))"
   ]
  },
  {
   "cell_type": "code",
   "execution_count": null,
   "metadata": {},
   "outputs": [],
   "source": []
  }
 ],
 "metadata": {
  "kernelspec": {
   "display_name": "Python 3",
   "language": "python",
   "name": "python3"
  },
  "language_info": {
   "codemirror_mode": {
    "name": "ipython",
    "version": 3
   },
   "file_extension": ".py",
   "mimetype": "text/x-python",
   "name": "python",
   "nbconvert_exporter": "python",
   "pygments_lexer": "ipython3",
   "version": "3.6.5"
  }
 },
 "nbformat": 4,
 "nbformat_minor": 2
}
